{
 "cells": [
  {
   "cell_type": "markdown",
   "id": "17188c27-2424-48cd-a98e-63c336927908",
   "metadata": {},
   "source": [
    "#### THIRD ASSIGNMENT"
   ]
  },
  {
   "cell_type": "code",
   "execution_count": 38,
   "id": "2f066ab2-cc8c-4d76-a5fa-b34556a38707",
   "metadata": {},
   "outputs": [],
   "source": [
    "import math\n",
    "def prime(a):\n",
    "    if a<=1:\n",
    "        return False\n",
    "    elif a==2:\n",
    "            return True\n",
    "    elif a%2==0:\n",
    "                return False\n",
    "    for i in range(3,int(math.sqrt(a)) +1,2):\n",
    "            if a%i==0:\n",
    "                return False\n",
    "    return True \n",
    "                "
   ]
  },
  {
   "cell_type": "code",
   "execution_count": 40,
   "id": "89aa8617-151d-4208-bae2-5fd6ec349bd1",
   "metadata": {},
   "outputs": [
    {
     "name": "stdout",
     "output_type": "stream",
     "text": [
      "3is prime\n"
     ]
    }
   ],
   "source": [
    "m=3\n",
    "if prime(m):\n",
    "    print(f\"{m}is prime\")\n",
    "else:\n",
    "    print(f\"{m} is not prime\")"
   ]
  },
  {
   "cell_type": "code",
   "execution_count": 41,
   "id": "8e7ff82a-c272-4331-8e92-fe6b2190492e",
   "metadata": {},
   "outputs": [
    {
     "data": {
      "text/plain": [
       "True"
      ]
     },
     "execution_count": 41,
     "metadata": {},
     "output_type": "execute_result"
    }
   ],
   "source": [
    "prime(3)"
   ]
  },
  {
   "cell_type": "code",
   "execution_count": 73,
   "id": "3bc750c6-80de-45d1-874e-e79170d42f5b",
   "metadata": {},
   "outputs": [],
   "source": [
    "\n",
    "def factorial(d):\n",
    "    if d==0:\n",
    "        return 1\n",
    "    return d*factorial(d-1)"
   ]
  },
  {
   "cell_type": "code",
   "execution_count": 75,
   "id": "9d1a520a-19a3-4f00-883a-5aa3ca907be1",
   "metadata": {},
   "outputs": [
    {
     "data": {
      "text/plain": [
       "6"
      ]
     },
     "execution_count": 75,
     "metadata": {},
     "output_type": "execute_result"
    }
   ],
   "source": [
    "factorial(3)"
   ]
  },
  {
   "cell_type": "code",
   "execution_count": null,
   "id": "aabfba07-5c4d-48db-9b03-0209d461961b",
   "metadata": {},
   "outputs": [],
   "source": []
  }
 ],
 "metadata": {
  "kernelspec": {
   "display_name": "Python [conda env:base] *",
   "language": "python",
   "name": "conda-base-py"
  },
  "language_info": {
   "codemirror_mode": {
    "name": "ipython",
    "version": 3
   },
   "file_extension": ".py",
   "mimetype": "text/x-python",
   "name": "python",
   "nbconvert_exporter": "python",
   "pygments_lexer": "ipython3",
   "version": "3.12.7"
  }
 },
 "nbformat": 4,
 "nbformat_minor": 5
}
