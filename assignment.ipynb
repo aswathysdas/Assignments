{
 "cells": [
  {
   "cell_type": "markdown",
   "id": "178d18bd-4cf4-4db4-9fc6-77d98ffafc77",
   "metadata": {},
   "source": [
    "# ASSIGNMENT"
   ]
  },
  {
   "cell_type": "code",
   "execution_count": 2,
   "id": "2dfe4923-5b8a-49f0-9a75-aea27a0daa50",
   "metadata": {},
   "outputs": [
    {
     "name": "stdin",
     "output_type": "stream",
     "text": [
      "enter your name aswathy\n"
     ]
    }
   ],
   "source": [
    "Name=input('enter your name')"
   ]
  },
  {
   "cell_type": "code",
   "execution_count": 3,
   "id": "a70bf77a-3508-4aca-94c7-36620be88ae0",
   "metadata": {},
   "outputs": [
    {
     "name": "stdin",
     "output_type": "stream",
     "text": [
      "enter your age 34\n"
     ]
    }
   ],
   "source": [
    "Age=input('enter your age')"
   ]
  },
  {
   "cell_type": "code",
   "execution_count": 4,
   "id": "8b2c9b3f-a6b4-4194-9f3e-3831a6164f99",
   "metadata": {},
   "outputs": [
    {
     "name": "stdin",
     "output_type": "stream",
     "text": [
      "enter your place Nilambur\n"
     ]
    }
   ],
   "source": [
    "Place=input('enter your place')"
   ]
  },
  {
   "cell_type": "code",
   "execution_count": 5,
   "id": "b1877c53-9ce3-44af-8272-c08c35950ab1",
   "metadata": {},
   "outputs": [
    {
     "name": "stdin",
     "output_type": "stream",
     "text": [
      "enter your occupation developer\n"
     ]
    }
   ],
   "source": [
    "Occu=input('enter your occupation')"
   ]
  },
  {
   "cell_type": "code",
   "execution_count": 19,
   "id": "753f6e32-3d02-4018-b820-16c51098fc95",
   "metadata": {},
   "outputs": [],
   "source": [
    "d={'name':Name,'age':Age,'place':Place,'occ':Occu}"
   ]
  },
  {
   "cell_type": "code",
   "execution_count": 11,
   "id": "6b4b6486-81ca-46cd-852b-280238276466",
   "metadata": {},
   "outputs": [
    {
     "data": {
      "text/plain": [
       "dict"
      ]
     },
     "execution_count": 11,
     "metadata": {},
     "output_type": "execute_result"
    }
   ],
   "source": [
    "type(d)"
   ]
  },
  {
   "cell_type": "code",
   "execution_count": 12,
   "id": "1ae844b5-b0d8-4296-8e65-a93f52d6c682",
   "metadata": {},
   "outputs": [
    {
     "data": {
      "text/plain": [
       "'aswathy'"
      ]
     },
     "execution_count": 12,
     "metadata": {},
     "output_type": "execute_result"
    }
   ],
   "source": [
    "Name"
   ]
  },
  {
   "cell_type": "code",
   "execution_count": 13,
   "id": "2a4ee356-d360-44ee-84f4-33ad1b9534c6",
   "metadata": {},
   "outputs": [
    {
     "data": {
      "text/plain": [
       "'34'"
      ]
     },
     "execution_count": 13,
     "metadata": {},
     "output_type": "execute_result"
    }
   ],
   "source": [
    "Age"
   ]
  },
  {
   "cell_type": "code",
   "execution_count": 14,
   "id": "2e2b75d6-7c2f-427f-84d1-64fca7474a02",
   "metadata": {},
   "outputs": [
    {
     "data": {
      "text/plain": [
       "'Nilambur'"
      ]
     },
     "execution_count": 14,
     "metadata": {},
     "output_type": "execute_result"
    }
   ],
   "source": [
    "Place"
   ]
  },
  {
   "cell_type": "code",
   "execution_count": 15,
   "id": "ffb3aee5-b00a-4ae4-aa70-efff110d1db9",
   "metadata": {},
   "outputs": [
    {
     "data": {
      "text/plain": [
       "'developer'"
      ]
     },
     "execution_count": 15,
     "metadata": {},
     "output_type": "execute_result"
    }
   ],
   "source": [
    "Occu"
   ]
  },
  {
   "cell_type": "code",
   "execution_count": 20,
   "id": "73152f95-4088-4411-8643-9d66309dfb18",
   "metadata": {},
   "outputs": [
    {
     "data": {
      "text/plain": [
       "{'name': 'aswathy', 'age': '34', 'place': 'Nilambur', 'occ': 'developer'}"
      ]
     },
     "execution_count": 20,
     "metadata": {},
     "output_type": "execute_result"
    }
   ],
   "source": [
    "d"
   ]
  },
  {
   "cell_type": "code",
   "execution_count": null,
   "id": "6119407c-bfd2-4643-8150-a94345bb3dc9",
   "metadata": {},
   "outputs": [],
   "source": []
  }
 ],
 "metadata": {
  "kernelspec": {
   "display_name": "Python [conda env:base] *",
   "language": "python",
   "name": "conda-base-py"
  },
  "language_info": {
   "codemirror_mode": {
    "name": "ipython",
    "version": 3
   },
   "file_extension": ".py",
   "mimetype": "text/x-python",
   "name": "python",
   "nbconvert_exporter": "python",
   "pygments_lexer": "ipython3",
   "version": "3.12.7"
  }
 },
 "nbformat": 4,
 "nbformat_minor": 5
}
