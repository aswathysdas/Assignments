{
 "cells": [
  {
   "cell_type": "code",
   "execution_count": 13,
   "id": "340ee12e-b0c2-462e-af2b-8432147877d2",
   "metadata": {},
   "outputs": [
    {
     "name": "stdout",
     "output_type": "stream",
     "text": [
      "1 -odd\n",
      "2 -even\n",
      "3 -odd\n",
      "4 -even\n",
      "5 -odd\n",
      "6 -even\n",
      "7 -odd\n",
      "8 -even\n",
      "9 -odd\n",
      "10 -even\n",
      "11 -odd\n",
      "12 -even\n",
      "13 -odd\n",
      "14 -even\n"
     ]
    }
   ],
   "source": [
    "for i in range(1,15):\n",
    "    if i%2==0:\n",
    "        print(i,'-even')\n",
    "    else:\n",
    "        print(i,'-odd')"
   ]
  },
  {
   "cell_type": "code",
   "execution_count": 35,
   "id": "afa830fc-de10-43b7-9e66-cd660930a231",
   "metadata": {},
   "outputs": [
    {
     "name": "stdout",
     "output_type": "stream",
     "text": [
      "*\n",
      "**\n",
      "***\n",
      "****\n"
     ]
    }
   ],
   "source": [
    "\n",
    "    for i in range(1,5):\n",
    "        print(\"*\"*i)"
   ]
  },
  {
   "cell_type": "code",
   "execution_count": null,
   "id": "64b4802b-9ad5-4063-b7db-748e43cae106",
   "metadata": {},
   "outputs": [],
   "source": []
  }
 ],
 "metadata": {
  "kernelspec": {
   "display_name": "Python [conda env:base] *",
   "language": "python",
   "name": "conda-base-py"
  },
  "language_info": {
   "codemirror_mode": {
    "name": "ipython",
    "version": 3
   },
   "file_extension": ".py",
   "mimetype": "text/x-python",
   "name": "python",
   "nbconvert_exporter": "python",
   "pygments_lexer": "ipython3",
   "version": "3.12.7"
  }
 },
 "nbformat": 4,
 "nbformat_minor": 5
}
