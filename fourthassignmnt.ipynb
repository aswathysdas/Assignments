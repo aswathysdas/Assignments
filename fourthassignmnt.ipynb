{
 "cells": [
  {
   "cell_type": "markdown",
   "id": "de36ed34-f683-48b3-abe9-9d606d66d429",
   "metadata": {},
   "source": [
    "#### fourth assignment(join and split)"
   ]
  },
  {
   "cell_type": "code",
   "execution_count": 1,
   "id": "c339734a-563b-48e3-89f7-7380b7659af1",
   "metadata": {},
   "outputs": [],
   "source": [
    "import numpy as np"
   ]
  },
  {
   "cell_type": "code",
   "execution_count": 2,
   "id": "6ff7c24b-7728-4e98-a10f-65ca3fcd67f4",
   "metadata": {},
   "outputs": [
    {
     "name": "stdout",
     "output_type": "stream",
     "text": [
      "[1 2 3 4 5 6]\n",
      "[ 7  8  9 10 11 12]\n"
     ]
    }
   ],
   "source": [
    "array1=np.array([1,2,3,4,5,6])\n",
    "array2=np.array([7,8,9,10,11,12])\n",
    "print(array1)\n",
    "print(array2)"
   ]
  },
  {
   "cell_type": "code",
   "execution_count": 9,
   "id": "958c4218-a916-46a3-8267-dfcfba195bea",
   "metadata": {},
   "outputs": [
    {
     "name": "stdout",
     "output_type": "stream",
     "text": [
      "[ 1  2  3  4  5  6  7  8  9 10 11 12]\n"
     ]
    }
   ],
   "source": [
    "joind=np.concatenate((array1,array2),axis=0)\n",
    "print(joind)"
   ]
  },
  {
   "cell_type": "markdown",
   "id": "52bbebbf-9c61-4e38-b8c6-6c85eea810de",
   "metadata": {},
   "source": [
    "###### vertically joining two arrays"
   ]
  },
  {
   "cell_type": "code",
   "execution_count": 5,
   "id": "3458681a-2daa-43b4-a6ae-f6b3080f2604",
   "metadata": {},
   "outputs": [
    {
     "name": "stdout",
     "output_type": "stream",
     "text": [
      "[[ 1  2  3  4  5  6]\n",
      " [ 7  8  9 10 11 12]]\n"
     ]
    }
   ],
   "source": [
    "vjoin=np.vstack((array1,array2))\n",
    "print(vjoin)"
   ]
  },
  {
   "cell_type": "markdown",
   "id": "d907782f-ecf0-4ac4-aa43-ba428b8f28dc",
   "metadata": {},
   "source": [
    "###### horizontally joining two arrays"
   ]
  },
  {
   "cell_type": "code",
   "execution_count": 10,
   "id": "d40a6091-ff71-4008-8263-cfb1ca1bb38a",
   "metadata": {},
   "outputs": [
    {
     "name": "stdout",
     "output_type": "stream",
     "text": [
      "[ 1  2  3  4  5  6  7  8  9 10 11 12]\n"
     ]
    }
   ],
   "source": [
    "hjoin=np.hstack((array1,array2))\n",
    "print(hjoin)"
   ]
  },
  {
   "cell_type": "code",
   "execution_count": 13,
   "id": "7e4eb5e0-a943-4042-9178-d91d9b391b90",
   "metadata": {},
   "outputs": [
    {
     "name": "stdout",
     "output_type": "stream",
     "text": [
      "[[ 3 44  5]\n",
      " [ 7 89 10]]\n",
      "[[55 66 88]\n",
      " [22 33 11]]\n"
     ]
    }
   ],
   "source": [
    "array3=np.array([[3,44,5],[7,89,10]])\n",
    "array4=np.array([[55,66,88],[22,33,11]])\n",
    "print(array3)\n",
    "print(array4)"
   ]
  },
  {
   "cell_type": "code",
   "execution_count": 15,
   "id": "043ccd2a-d73a-44b4-9496-ac3765fbcb41",
   "metadata": {},
   "outputs": [
    {
     "name": "stdout",
     "output_type": "stream",
     "text": [
      "[[ 3 44  5 55 66 88]\n",
      " [ 7 89 10 22 33 11]]\n"
     ]
    }
   ],
   "source": [
    "newarry=np.concatenate((array3,array4),axis=1)\n",
    "print(newarry)"
   ]
  },
  {
   "cell_type": "code",
   "execution_count": 16,
   "id": "31318dec-ad46-40d2-9d7b-153420ad11c0",
   "metadata": {},
   "outputs": [
    {
     "name": "stdout",
     "output_type": "stream",
     "text": [
      "[[ 3 44  5 55 66 88]\n",
      " [ 7 89 10 22 33 11]]\n"
     ]
    }
   ],
   "source": [
    "harry=np.hstack((array3,array4))\n",
    "print(harry)"
   ]
  },
  {
   "cell_type": "code",
   "execution_count": 17,
   "id": "6d10753d-56ec-4637-8c08-3b4c66e676dc",
   "metadata": {},
   "outputs": [
    {
     "name": "stdout",
     "output_type": "stream",
     "text": [
      "[[ 3 44  5]\n",
      " [ 7 89 10]\n",
      " [55 66 88]\n",
      " [22 33 11]]\n"
     ]
    }
   ],
   "source": [
    "varry=np.vstack((array3,array4))\n",
    "print(varry)"
   ]
  },
  {
   "cell_type": "markdown",
   "id": "5b501ddd-f60f-4968-a265-7a2b7becb5a9",
   "metadata": {},
   "source": [
    "##### splitting 2d array into two"
   ]
  },
  {
   "cell_type": "code",
   "execution_count": 19,
   "id": "679bbb07-c520-49b0-916f-60ffe4c04bbd",
   "metadata": {},
   "outputs": [
    {
     "name": "stdout",
     "output_type": "stream",
     "text": [
      "[[ 3 44  5]\n",
      " [ 7 89 10]]\n",
      "[[55 66 88]\n",
      " [22 33 11]]\n"
     ]
    }
   ],
   "source": [
    "arry1,arry2=np.split(varry,[2],axis=0)\n",
    "print(arry1)\n",
    "print(arry2)"
   ]
  },
  {
   "cell_type": "markdown",
   "id": "3821a0d7-8d40-413a-8a12-644784e3a182",
   "metadata": {},
   "source": [
    "#### horizontally splitting two d array"
   ]
  },
  {
   "cell_type": "code",
   "execution_count": 20,
   "id": "aba314e6-3669-4750-9777-201137b6aa75",
   "metadata": {},
   "outputs": [
    {
     "name": "stdout",
     "output_type": "stream",
     "text": [
      "[[ 3  4  5]\n",
      " [ 5  6  7]\n",
      " [ 8  9 10]\n",
      " [11 12 13]]\n"
     ]
    }
   ],
   "source": [
    "array5=np.array([[3,4,5],[5,6,7],[8,9,10],[11,12,13]])\n",
    "print(array5)"
   ]
  },
  {
   "cell_type": "code",
   "execution_count": 32,
   "id": "25ad682b-540e-462a-9ec1-720ba7dcf60c",
   "metadata": {},
   "outputs": [
    {
     "name": "stdout",
     "output_type": "stream",
     "text": [
      "[array([[ 3,  4],\n",
      "       [ 5,  6],\n",
      "       [ 8,  9],\n",
      "       [11, 12]]), array([[ 5],\n",
      "       [ 7],\n",
      "       [10],\n",
      "       [13]]), array([], shape=(4, 0), dtype=int32)]\n"
     ]
    }
   ],
   "source": [
    "horarray=np.hsplit(array5,[2,3])\n",
    "print(horarray)"
   ]
  },
  {
   "cell_type": "markdown",
   "id": "923b8700-2ade-4c6a-bac5-cb1a23525b97",
   "metadata": {},
   "source": [
    "### first split occurs before the second column(index2),resulting in an array containing the first two columns of original array:[[3,4],[5,6],[8,9],[11,12]].the second split occurs before the third column,taking the remaining columns.this results in an array[[5],[7],[10],[13]].since there are no more columns after third column,final split results in an empty array with a shape of(4,0)."
   ]
  },
  {
   "cell_type": "code",
   "execution_count": 37,
   "id": "bb55b0c1-86a9-450d-bf88-741e92bc5b98",
   "metadata": {},
   "outputs": [
    {
     "name": "stdout",
     "output_type": "stream",
     "text": [
      "[array([[3, 4, 5]]), array([[5, 6, 7]]), array([[ 8,  9, 10],\n",
      "       [11, 12, 13]])]\n"
     ]
    }
   ],
   "source": [
    "verarray=np.vsplit(array5,[1,2])\n",
    "print(verarray)"
   ]
  },
  {
   "cell_type": "code",
   "execution_count": 39,
   "id": "98fbe318-1add-48d7-8dc8-4a1a2cc325ad",
   "metadata": {},
   "outputs": [
    {
     "name": "stdout",
     "output_type": "stream",
     "text": [
      "[array([[3, 4, 5],\n",
      "       [5, 6, 7]]), array([[ 8,  9, 10],\n",
      "       [11, 12, 13]])]\n"
     ]
    }
   ],
   "source": [
    "verqarray=np.vsplit(array5,2)\n",
    "print(verqarray)"
   ]
  },
  {
   "cell_type": "code",
   "execution_count": 50,
   "id": "93d044d4-ccf0-485d-be07-2fb406017e94",
   "metadata": {},
   "outputs": [
    {
     "name": "stdout",
     "output_type": "stream",
     "text": [
      "[[[ 3  4  5]\n",
      "  [ 2  3  4]\n",
      "  [ 8  9  0]\n",
      "  [23 34 56]]]\n",
      "[[[ 6  7  8]\n",
      "  [ 9 10 11]\n",
      "  [12 13 14]\n",
      "  [12 13 76]]]\n"
     ]
    }
   ],
   "source": [
    "array6=np.array([[[3,4,5],[2,3,4],[8,9,0],[23,34,56]]])\n",
    "array7=np.array([[[6,7,8],[9,10,11],[12,13,14],[12,13,76]]])\n",
    "print(array6)\n",
    "print(array7)"
   ]
  },
  {
   "cell_type": "markdown",
   "id": "9d641df4-615a-4cdc-bf36-2c22f7c992b2",
   "metadata": {},
   "source": [
    "### three dimension concatenation"
   ]
  },
  {
   "cell_type": "code",
   "execution_count": 51,
   "id": "41f34634-2818-43de-899f-e861c581dd35",
   "metadata": {},
   "outputs": [
    {
     "name": "stdout",
     "output_type": "stream",
     "text": [
      "[[[ 3  4  5]\n",
      "  [ 2  3  4]\n",
      "  [ 8  9  0]\n",
      "  [23 34 56]]\n",
      "\n",
      " [[ 6  7  8]\n",
      "  [ 9 10 11]\n",
      "  [12 13 14]\n",
      "  [12 13 76]]]\n"
     ]
    }
   ],
   "source": [
    "array9=np.concatenate((array6,array7),axis=0)\n",
    "print(array9)"
   ]
  },
  {
   "cell_type": "code",
   "execution_count": 52,
   "id": "d34b5937-3a44-41d8-bc7c-4303626b88f1",
   "metadata": {},
   "outputs": [],
   "source": [
    "array10=np.hstack((array6,array7))"
   ]
  },
  {
   "cell_type": "code",
   "execution_count": 53,
   "id": "e0953f30-3725-434f-a4c9-de2eb5f9ff49",
   "metadata": {},
   "outputs": [
    {
     "name": "stdout",
     "output_type": "stream",
     "text": [
      "[[[ 3  4  5]\n",
      "  [ 2  3  4]\n",
      "  [ 8  9  0]\n",
      "  [23 34 56]\n",
      "  [ 6  7  8]\n",
      "  [ 9 10 11]\n",
      "  [12 13 14]\n",
      "  [12 13 76]]]\n"
     ]
    }
   ],
   "source": [
    "print(array10)"
   ]
  },
  {
   "cell_type": "code",
   "execution_count": 54,
   "id": "ddc9d0f1-0c92-4559-8ea8-62541824380e",
   "metadata": {},
   "outputs": [
    {
     "name": "stdout",
     "output_type": "stream",
     "text": [
      "[[[ 3  4  5]\n",
      "  [ 2  3  4]\n",
      "  [ 8  9  0]\n",
      "  [23 34 56]]\n",
      "\n",
      " [[ 6  7  8]\n",
      "  [ 9 10 11]\n",
      "  [12 13 14]\n",
      "  [12 13 76]]]\n"
     ]
    }
   ],
   "source": [
    "array11=np.vstack((array6,array7))\n",
    "print(array11)"
   ]
  },
  {
   "cell_type": "markdown",
   "id": "5a0f3cd0-5b1c-464e-921a-f94f84fd531a",
   "metadata": {},
   "source": [
    "### splitting three dimensional array"
   ]
  },
  {
   "cell_type": "code",
   "execution_count": 55,
   "id": "b8c4fa8a-d139-4dac-b9e4-1042f995c6b5",
   "metadata": {},
   "outputs": [
    {
     "name": "stdout",
     "output_type": "stream",
     "text": [
      "[array([[[3, 4, 5]],\n",
      "\n",
      "       [[6, 7, 8]]]), array([[[ 2,  3,  4],\n",
      "        [ 8,  9,  0]],\n",
      "\n",
      "       [[ 9, 10, 11],\n",
      "        [12, 13, 14]]]), array([[[23, 34, 56]],\n",
      "\n",
      "       [[12, 13, 76]]])]\n"
     ]
    }
   ],
   "source": [
    "sparry=np.hsplit(array9,[1,3])\n",
    "print(sparry)"
   ]
  },
  {
   "cell_type": "code",
   "execution_count": 65,
   "id": "c58c6571-acf2-4926-a715-6fa9bdcea91a",
   "metadata": {},
   "outputs": [
    {
     "name": "stdout",
     "output_type": "stream",
     "text": [
      "[array([[[ 3,  4,  5],\n",
      "        [ 2,  3,  4],\n",
      "        [ 8,  9,  0],\n",
      "        [23, 34, 56]]]), array([[[ 6,  7,  8],\n",
      "        [ 9, 10, 11],\n",
      "        [12, 13, 14],\n",
      "        [12, 13, 76]]])]\n"
     ]
    }
   ],
   "source": [
    "carray=np.vsplit(array9,2)\n",
    "print(carray)"
   ]
  },
  {
   "cell_type": "code",
   "execution_count": null,
   "id": "259cf96d-7fb3-45fa-b7dc-8bf03d2c92c0",
   "metadata": {},
   "outputs": [],
   "source": []
  }
 ],
 "metadata": {
  "kernelspec": {
   "display_name": "Python [conda env:base] *",
   "language": "python",
   "name": "conda-base-py"
  },
  "language_info": {
   "codemirror_mode": {
    "name": "ipython",
    "version": 3
   },
   "file_extension": ".py",
   "mimetype": "text/x-python",
   "name": "python",
   "nbconvert_exporter": "python",
   "pygments_lexer": "ipython3",
   "version": "3.12.7"
  }
 },
 "nbformat": 4,
 "nbformat_minor": 5
}
